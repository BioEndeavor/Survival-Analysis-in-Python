{
 "cells": [
  {
   "cell_type": "code",
   "execution_count": 1,
   "id": "0bf36d05",
   "metadata": {},
   "outputs": [],
   "source": [
    "import pandas as pd\n",
    "import numpy as np\n",
    "import matplotlib.pyplot as plt"
   ]
  },
  {
   "cell_type": "code",
   "execution_count": 2,
   "id": "25cf766c",
   "metadata": {},
   "outputs": [],
   "source": [
    "data = pd.read_csv('pancancerinfo.csv')"
   ]
  },
  {
   "cell_type": "code",
   "execution_count": 3,
   "id": "0b57849b",
   "metadata": {},
   "outputs": [
    {
     "data": {
      "text/html": [
       "<div>\n",
       "<style scoped>\n",
       "    .dataframe tbody tr th:only-of-type {\n",
       "        vertical-align: middle;\n",
       "    }\n",
       "\n",
       "    .dataframe tbody tr th {\n",
       "        vertical-align: top;\n",
       "    }\n",
       "\n",
       "    .dataframe thead th {\n",
       "        text-align: right;\n",
       "    }\n",
       "</style>\n",
       "<table border=\"1\" class=\"dataframe\">\n",
       "  <thead>\n",
       "    <tr style=\"text-align: right;\">\n",
       "      <th></th>\n",
       "      <th>bcr_patient_barcode</th>\n",
       "      <th>type</th>\n",
       "      <th>age_at_initial_pathologic_diagnosis</th>\n",
       "      <th>gender</th>\n",
       "      <th>race</th>\n",
       "      <th>ajcc_pathologic_tumor_stage</th>\n",
       "      <th>vital_status</th>\n",
       "      <th>treatment_outcome_first_course</th>\n",
       "      <th>Event</th>\n",
       "      <th>Delay</th>\n",
       "    </tr>\n",
       "  </thead>\n",
       "  <tbody>\n",
       "    <tr>\n",
       "      <th>0</th>\n",
       "      <td>TCGA_CF_A9FH</td>\n",
       "      <td>BLCA</td>\n",
       "      <td>85.0</td>\n",
       "      <td>MALE</td>\n",
       "      <td>ASIAN</td>\n",
       "      <td>Stage II</td>\n",
       "      <td>Alive</td>\n",
       "      <td>Complete Remission/Response</td>\n",
       "      <td>0.0</td>\n",
       "      <td>0.0</td>\n",
       "    </tr>\n",
       "    <tr>\n",
       "      <th>1</th>\n",
       "      <td>TCGA_A8_A06N</td>\n",
       "      <td>BRCA</td>\n",
       "      <td>66.0</td>\n",
       "      <td>FEMALE</td>\n",
       "      <td>[Not Available]</td>\n",
       "      <td>Stage IIIB</td>\n",
       "      <td>Alive</td>\n",
       "      <td>[Not Available]</td>\n",
       "      <td>0.0</td>\n",
       "      <td>0.0</td>\n",
       "    </tr>\n",
       "    <tr>\n",
       "      <th>2</th>\n",
       "      <td>TCGA_A8_A081</td>\n",
       "      <td>BRCA</td>\n",
       "      <td>80.0</td>\n",
       "      <td>FEMALE</td>\n",
       "      <td>[Not Available]</td>\n",
       "      <td>Stage IIA</td>\n",
       "      <td>Alive</td>\n",
       "      <td>[Not Available]</td>\n",
       "      <td>0.0</td>\n",
       "      <td>0.0</td>\n",
       "    </tr>\n",
       "    <tr>\n",
       "      <th>3</th>\n",
       "      <td>TCGA_A8_A083</td>\n",
       "      <td>BRCA</td>\n",
       "      <td>67.0</td>\n",
       "      <td>FEMALE</td>\n",
       "      <td>[Not Available]</td>\n",
       "      <td>Stage IIB</td>\n",
       "      <td>Alive</td>\n",
       "      <td>[Not Available]</td>\n",
       "      <td>0.0</td>\n",
       "      <td>0.0</td>\n",
       "    </tr>\n",
       "    <tr>\n",
       "      <th>4</th>\n",
       "      <td>TCGA_A8_A08H</td>\n",
       "      <td>BRCA</td>\n",
       "      <td>66.0</td>\n",
       "      <td>FEMALE</td>\n",
       "      <td>[Not Available]</td>\n",
       "      <td>Stage IIA</td>\n",
       "      <td>Alive</td>\n",
       "      <td>[Not Available]</td>\n",
       "      <td>0.0</td>\n",
       "      <td>0.0</td>\n",
       "    </tr>\n",
       "  </tbody>\n",
       "</table>\n",
       "</div>"
      ],
      "text/plain": [
       "  bcr_patient_barcode  type  age_at_initial_pathologic_diagnosis  gender  \\\n",
       "0        TCGA_CF_A9FH  BLCA                                 85.0    MALE   \n",
       "1        TCGA_A8_A06N  BRCA                                 66.0  FEMALE   \n",
       "2        TCGA_A8_A081  BRCA                                 80.0  FEMALE   \n",
       "3        TCGA_A8_A083  BRCA                                 67.0  FEMALE   \n",
       "4        TCGA_A8_A08H  BRCA                                 66.0  FEMALE   \n",
       "\n",
       "              race ajcc_pathologic_tumor_stage vital_status  \\\n",
       "0            ASIAN                    Stage II        Alive   \n",
       "1  [Not Available]                  Stage IIIB        Alive   \n",
       "2  [Not Available]                   Stage IIA        Alive   \n",
       "3  [Not Available]                   Stage IIB        Alive   \n",
       "4  [Not Available]                   Stage IIA        Alive   \n",
       "\n",
       "  treatment_outcome_first_course  Event  Delay  \n",
       "0    Complete Remission/Response    0.0    0.0  \n",
       "1                [Not Available]    0.0    0.0  \n",
       "2                [Not Available]    0.0    0.0  \n",
       "3                [Not Available]    0.0    0.0  \n",
       "4                [Not Available]    0.0    0.0  "
      ]
     },
     "execution_count": 3,
     "metadata": {},
     "output_type": "execute_result"
    }
   ],
   "source": [
    "data.head()"
   ]
  },
  {
   "cell_type": "code",
   "execution_count": 4,
   "id": "b53ecbe1",
   "metadata": {},
   "outputs": [
    {
     "name": "stdout",
     "output_type": "stream",
     "text": [
      "<class 'pandas.core.frame.DataFrame'>\n",
      "RangeIndex: 11160 entries, 0 to 11159\n",
      "Data columns (total 10 columns):\n",
      " #   Column                               Non-Null Count  Dtype  \n",
      "---  ------                               --------------  -----  \n",
      " 0   bcr_patient_barcode                  11160 non-null  object \n",
      " 1   type                                 11160 non-null  object \n",
      " 2   age_at_initial_pathologic_diagnosis  11109 non-null  float64\n",
      " 3   gender                               11160 non-null  object \n",
      " 4   race                                 11160 non-null  object \n",
      " 5   ajcc_pathologic_tumor_stage          11160 non-null  object \n",
      " 6   vital_status                         11156 non-null  object \n",
      " 7   treatment_outcome_first_course       11109 non-null  object \n",
      " 8   Event                                11151 non-null  float64\n",
      " 9   Delay                                11094 non-null  float64\n",
      "dtypes: float64(3), object(7)\n",
      "memory usage: 872.0+ KB\n"
     ]
    }
   ],
   "source": [
    "data.info()"
   ]
  },
  {
   "cell_type": "code",
   "execution_count": 5,
   "id": "962d1b6c",
   "metadata": {},
   "outputs": [],
   "source": [
    "df = data.dropna()"
   ]
  },
  {
   "cell_type": "code",
   "execution_count": 6,
   "id": "bccd3446",
   "metadata": {},
   "outputs": [
    {
     "data": {
      "text/plain": [
       "bcr_patient_barcode                    0\n",
       "type                                   0\n",
       "age_at_initial_pathologic_diagnosis    0\n",
       "gender                                 0\n",
       "race                                   0\n",
       "ajcc_pathologic_tumor_stage            0\n",
       "vital_status                           0\n",
       "treatment_outcome_first_course         0\n",
       "Event                                  0\n",
       "Delay                                  0\n",
       "dtype: int64"
      ]
     },
     "execution_count": 6,
     "metadata": {},
     "output_type": "execute_result"
    }
   ],
   "source": [
    "df.isnull().sum()"
   ]
  },
  {
   "cell_type": "code",
   "execution_count": 7,
   "id": "522b92e0",
   "metadata": {},
   "outputs": [
    {
     "name": "stdout",
     "output_type": "stream",
     "text": [
      "<class 'pandas.core.frame.DataFrame'>\n",
      "Int64Index: 11018 entries, 0 to 11093\n",
      "Data columns (total 10 columns):\n",
      " #   Column                               Non-Null Count  Dtype  \n",
      "---  ------                               --------------  -----  \n",
      " 0   bcr_patient_barcode                  11018 non-null  object \n",
      " 1   type                                 11018 non-null  object \n",
      " 2   age_at_initial_pathologic_diagnosis  11018 non-null  float64\n",
      " 3   gender                               11018 non-null  object \n",
      " 4   race                                 11018 non-null  object \n",
      " 5   ajcc_pathologic_tumor_stage          11018 non-null  object \n",
      " 6   vital_status                         11018 non-null  object \n",
      " 7   treatment_outcome_first_course       11018 non-null  object \n",
      " 8   Event                                11018 non-null  float64\n",
      " 9   Delay                                11018 non-null  float64\n",
      "dtypes: float64(3), object(7)\n",
      "memory usage: 946.9+ KB\n"
     ]
    }
   ],
   "source": [
    "df.info()"
   ]
  },
  {
   "cell_type": "code",
   "execution_count": 8,
   "id": "8cd5c087",
   "metadata": {},
   "outputs": [],
   "source": [
    "df1 = df.rename(columns = {'age_at_initial_pathologic_diagnosis':'age'})"
   ]
  },
  {
   "cell_type": "code",
   "execution_count": 9,
   "id": "236b7175",
   "metadata": {},
   "outputs": [
    {
     "data": {
      "text/plain": [
       "<AxesSubplot:xlabel='gender'>"
      ]
     },
     "execution_count": 9,
     "metadata": {},
     "output_type": "execute_result"
    },
    {
     "data": {
      "image/png": "[encoded data removed]",
      "text/plain": [
       "<Figure size 432x288 with 1 Axes>"
      ]
     },
     "metadata": {
      "needs_background": "light"
     },
     "output_type": "display_data"
    }
   ],
   "source": [
    "by_gender = df1.groupby('gender')\n",
    "by_gender.size().plot(kind='bar')"
   ]
  },
  {
   "cell_type": "code",
   "execution_count": 10,
   "id": "34a70862",
   "metadata": {},
   "outputs": [
    {
     "data": {
      "text/plain": [
       "gender\n",
       "FEMALE    5770\n",
       "MALE      5248\n",
       "dtype: int64"
      ]
     },
     "execution_count": 10,
     "metadata": {},
     "output_type": "execute_result"
    }
   ],
   "source": [
    "by_gender.size()"
   ]
  },
  {
   "cell_type": "code",
   "execution_count": 11,
   "id": "85633d4e",
   "metadata": {},
   "outputs": [
    {
     "data": {
      "text/plain": [
       "<AxesSubplot:xlabel='Event,gender'>"
      ]
     },
     "execution_count": 11,
     "metadata": {},
     "output_type": "execute_result"
    },
    {
     "data": {
      "image/png": "[encoded data removed]",
      "text/plain": [
       "<Figure size 432x288 with 1 Axes>"
      ]
     },
     "metadata": {
      "needs_background": "light"
     },
     "output_type": "display_data"
    }
   ],
   "source": [
    "gender_sim = df1.groupby(['Event','gender'])\n",
    "gender_sim.size().plot(kind = 'bar')"
   ]
  },
  {
   "cell_type": "code",
   "execution_count": 12,
   "id": "178bf07b",
   "metadata": {},
   "outputs": [
    {
     "data": {
      "text/plain": [
       "<AxesSubplot:xlabel='Event'>"
      ]
     },
     "execution_count": 12,
     "metadata": {},
     "output_type": "execute_result"
    },
    {
     "data": {
      "image/png": "[encoded data removed]",
      "text/plain": [
       "<Figure size 432x288 with 1 Axes>"
      ]
     },
     "metadata": {
      "needs_background": "light"
     },
     "output_type": "display_data"
    }
   ],
   "source": [
    "gender_sim.size().unstack().plot(kind = 'bar')"
   ]
  },
  {
   "cell_type": "code",
   "execution_count": 13,
   "id": "bfa7e2bd",
   "metadata": {},
   "outputs": [
    {
     "data": {
      "text/plain": [
       "gender\n",
       "FEMALE    AxesSubplot(0.125,0.125;0.775x0.755)\n",
       "MALE      AxesSubplot(0.125,0.125;0.775x0.755)\n",
       "Name: age, dtype: object"
      ]
     },
     "execution_count": 13,
     "metadata": {},
     "output_type": "execute_result"
    },
    {
     "data": {
      "image/png": "[encoded data removed]",
      "text/plain": [
       "<Figure size 432x288 with 1 Axes>"
      ]
     },
     "metadata": {
      "needs_background": "light"
     },
     "output_type": "display_data"
    }
   ],
   "source": [
    "df1.groupby('gender').age.hist()"
   ]
  },
  {
   "cell_type": "code",
   "execution_count": 14,
   "id": "ac377f77",
   "metadata": {},
   "outputs": [
    {
     "data": {
      "image/png": "[encoded data removed]",
      "text/plain": [
       "<Figure size 1440x504 with 1 Axes>"
      ]
     },
     "metadata": {
      "needs_background": "light"
     },
     "output_type": "display_data"
    }
   ],
   "source": [
    "fig, ax = plt.subplots(figsize=(20,7))\n",
    "age_died = df[df['Event']==1]['race']\n",
    "age_survive = df[df['Event']==0]['race']\n",
    "n, bins, patches = plt.hist(x = [age_died,age_survive] \n",
    "                            , bins='auto', \n",
    "                            color=['red','lightgreen'],\n",
    "                            alpha=0.65, rwidth=1.0)\n",
    "plt.grid(axis='y', alpha=0.1)\n",
    "plt.xlabel('Age group', fontsize = 15)\n",
    "plt.ylabel('Frequency', fontsize = 15)\n",
    "plt.title('Race', fontsize = 22)\n",
    "plt.legend(['Died','Alive'], fontsize = 15);"
   ]
  },
  {
   "cell_type": "code",
   "execution_count": null,
   "id": "3f6b279e",
   "metadata": {},
   "outputs": [],
   "source": []
  }
 ],
 "metadata": {
  "kernelspec": {
   "display_name": "Python 3 (ipykernel)",
   "language": "python",
   "name": "python3"
  },
  "language_info": {
   "codemirror_mode": {
    "name": "ipython",
    "version": 3
   },
   "file_extension": ".py",
   "mimetype": "text/x-python",
   "name": "python",
   "nbconvert_exporter": "python",
   "pygments_lexer": "ipython3",
   "version": "3.9.6"
  }
 },
 "nbformat": 4,
 "nbformat_minor": 5
}
